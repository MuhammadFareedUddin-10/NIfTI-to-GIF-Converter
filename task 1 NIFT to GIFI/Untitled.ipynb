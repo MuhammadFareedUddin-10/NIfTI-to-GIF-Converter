{
 "cells": [
  {
   "cell_type": "code",
   "execution_count": 4,
   "id": "25497c6f",
   "metadata": {},
   "outputs": [],
   "source": [
    "import imageio\n",
    "import nibabel as nib\n",
    "import numpy as np\n",
    "\n",
    "# Load the GIF file\n",
    "gif_path = 'nifti_images.gif'\n",
    "gif_frames = imageio.mimread(gif_path)\n",
    "\n",
    "# Create an empty NIfTI image volume\n",
    "volume_shape = (gif_frames[0].shape[0], gif_frames[0].shape[1], len(gif_frames))\n",
    "volume_data = np.zeros(volume_shape, dtype=np.uint8)\n",
    "\n",
    "# Iterate over the frames and populate the volume data\n",
    "for i, frame in enumerate(gif_frames):\n",
    "    # Convert the frame to grayscale if necessary\n",
    "    if frame.ndim == 3:\n",
    "        frame = np.dot(frame[..., :3], [0.2989, 0.5870, 0.1140])\n",
    "    \n",
    "    # Convert the pixel values to uint8 range\n",
    "    frame = (frame * 255).astype(np.uint8)\n",
    "    \n",
    "    # Assign the frame data to the corresponding slice of the volume\n",
    "    volume_data[..., i] = frame\n",
    "\n",
    "# Create a NIfTI image object\n",
    "nifti_image = nib.Nifti1Image(volume_data, affine=np.eye(4))\n",
    "\n",
    "# Save the NIfTI image to a file\n",
    "nifti_path = 'path_to_save_nifti_frames.nii'\n",
    "nib.save(nifti_image, nifti_path)\n"
   ]
  },
  {
   "cell_type": "code",
   "execution_count": null,
   "id": "d7343561",
   "metadata": {},
   "outputs": [],
   "source": []
  },
  {
   "cell_type": "code",
   "execution_count": null,
   "id": "79196ac7",
   "metadata": {},
   "outputs": [],
   "source": []
  }
 ],
 "metadata": {
  "kernelspec": {
   "display_name": "Python 3 (ipykernel)",
   "language": "python",
   "name": "python3"
  },
  "language_info": {
   "codemirror_mode": {
    "name": "ipython",
    "version": 3
   },
   "file_extension": ".py",
   "mimetype": "text/x-python",
   "name": "python",
   "nbconvert_exporter": "python",
   "pygments_lexer": "ipython3",
   "version": "3.10.9"
  }
 },
 "nbformat": 4,
 "nbformat_minor": 5
}
