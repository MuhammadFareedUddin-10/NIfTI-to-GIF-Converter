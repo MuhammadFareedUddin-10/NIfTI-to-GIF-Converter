{
 "cells": [
  {
   "cell_type": "code",
   "execution_count": 9,
   "id": "f9b2c301",
   "metadata": {
    "scrolled": true
   },
   "outputs": [
    {
     "name": "stdout",
     "output_type": "stream",
     "text": [
      "Requirement already satisfied: nibabel in f:\\anacondasetup\\lib\\site-packages (5.1.0)\n",
      "Requirement already satisfied: numpy>=1.19 in f:\\anacondasetup\\lib\\site-packages (from nibabel) (1.23.5)\n",
      "Requirement already satisfied: packaging>=17 in f:\\anacondasetup\\lib\\site-packages (from nibabel) (22.0)\n",
      "Note: you may need to restart the kernel to use updated packages.\n",
      "Requirement already satisfied: matplotlib in f:\\anacondasetup\\lib\\site-packages (3.7.0)\n",
      "Requirement already satisfied: packaging>=20.0 in f:\\anacondasetup\\lib\\site-packages (from matplotlib) (22.0)\n",
      "Requirement already satisfied: fonttools>=4.22.0 in f:\\anacondasetup\\lib\\site-packages (from matplotlib) (4.25.0)\n",
      "Requirement already satisfied: pyparsing>=2.3.1 in f:\\anacondasetup\\lib\\site-packages (from matplotlib) (3.0.9)\n",
      "Requirement already satisfied: contourpy>=1.0.1 in f:\\anacondasetup\\lib\\site-packages (from matplotlib) (1.0.5)\n",
      "Requirement already satisfied: numpy>=1.20 in f:\\anacondasetup\\lib\\site-packages (from matplotlib) (1.23.5)\n",
      "Requirement already satisfied: pillow>=6.2.0 in f:\\anacondasetup\\lib\\site-packages (from matplotlib) (9.4.0)\n",
      "Requirement already satisfied: python-dateutil>=2.7 in f:\\anacondasetup\\lib\\site-packages (from matplotlib) (2.8.2)\n",
      "Requirement already satisfied: cycler>=0.10 in f:\\anacondasetup\\lib\\site-packages (from matplotlib) (0.11.0)\n",
      "Requirement already satisfied: kiwisolver>=1.0.1 in f:\\anacondasetup\\lib\\site-packages (from matplotlib) (1.4.4)\n",
      "Requirement already satisfied: six>=1.5 in f:\\anacondasetup\\lib\\site-packages (from python-dateutil>=2.7->matplotlib) (1.16.0)\n",
      "Note: you may need to restart the kernel to use updated packages.\n",
      "Requirement already satisfied: scipy in f:\\anacondasetup\\lib\\site-packages (1.10.0)\n",
      "Requirement already satisfied: numpy<1.27.0,>=1.19.5 in f:\\anacondasetup\\lib\\site-packages (from scipy) (1.23.5)\n",
      "Note: you may need to restart the kernel to use updated packages.\n",
      "Requirement already satisfied: imageio in f:\\anacondasetup\\lib\\site-packages (2.26.0)\n",
      "Requirement already satisfied: pillow>=8.3.2 in f:\\anacondasetup\\lib\\site-packages (from imageio) (9.4.0)\n",
      "Requirement already satisfied: numpy in f:\\anacondasetup\\lib\\site-packages (from imageio) (1.23.5)\n",
      "Note: you may need to restart the kernel to use updated packages.\n"
     ]
    }
   ],
   "source": [
    "%pip install nibabel\n",
    "%pip install matplotlib\n",
    "%pip install scipy\n",
    "%pip install imageio\n"
   ]
  },
  {
   "cell_type": "code",
   "execution_count": 11,
   "id": "466d5a9a",
   "metadata": {},
   "outputs": [
    {
     "data": {
      "image/png": "[encoded data removed]",
      "text/plain": [
       "<Figure size 640x480 with 1 Axes>"
      ]
     },
     "metadata": {},
     "output_type": "display_data"
    }
   ],
   "source": [
    "import imageio.v2 as imageio\n",
    "import matplotlib.pyplot as plt\n",
    "import nibabel as nib\n",
    "\n",
    "# Load NIfTI image\n",
    "nifti_image = nib.load('10000_1000000.nii')\n",
    "\n",
    "# Access the image data\n",
    "image_data = nifti_image.get_fdata()\n",
    "\n",
    "# Create a list to store the frames\n",
    "frames = []\n",
    "\n",
    "# Iterate over the z-axis (third dimension)\n",
    "for z in range(image_data.shape[2]):\n",
    "    # Extract the slice at index 'z'\n",
    "    slice_z = image_data[:, :, z]\n",
    "    \n",
    "    # Display the slice\n",
    "    plt.imshow(slice_z, cmap='gray')\n",
    "    plt.axis('off')\n",
    "    \n",
    "    # Save the current figure as a frame\n",
    "    plt.savefig('temp_frame.png', bbox_inches='tight')\n",
    "    \n",
    "    # Read the saved frame and append it to the list\n",
    "    frames.append(imageio.imread('temp_frame.png'))\n",
    "\n",
    "# Save the frames as a GIF\n",
    "imageio.mimsave('nifti_images.gif', frames, duration=0.2)\n",
    "\n",
    "# Clean up temporary files\n",
    "import os\n",
    "os.remove('temp_frame.png')\n"
   ]
  },
  {
   "cell_type": "code",
   "execution_count": 6,
   "id": "3eecbf1a",
   "metadata": {},
   "outputs": [],
   "source": []
  },
  {
   "cell_type": "code",
   "execution_count": null,
   "id": "fbc858e6",
   "metadata": {},
   "outputs": [],
   "source": []
  },
  {
   "cell_type": "code",
   "execution_count": null,
   "id": "0560e9d9",
   "metadata": {},
   "outputs": [],
   "source": []
  },
  {
   "cell_type": "code",
   "execution_count": null,
   "id": "ef291a3d",
   "metadata": {},
   "outputs": [],
   "source": []
  },
  {
   "cell_type": "code",
   "execution_count": null,
   "id": "b546cf09",
   "metadata": {},
   "outputs": [],
   "source": []
  },
  {
   "cell_type": "code",
   "execution_count": null,
   "id": "22fae63c",
   "metadata": {},
   "outputs": [],
   "source": []
  },
  {
   "cell_type": "code",
   "execution_count": null,
   "id": "6f9caa1f",
   "metadata": {},
   "outputs": [],
   "source": []
  },
  {
   "cell_type": "code",
   "execution_count": null,
   "id": "78650672",
   "metadata": {},
   "outputs": [],
   "source": []
  },
  {
   "cell_type": "code",
   "execution_count": null,
   "id": "f0967d82",
   "metadata": {},
   "outputs": [],
   "source": []
  }
 ],
 "metadata": {
  "kernelspec": {
   "display_name": "Python 3 (ipykernel)",
   "language": "python",
   "name": "python3"
  },
  "language_info": {
   "codemirror_mode": {
    "name": "ipython",
    "version": 3
   },
   "file_extension": ".py",
   "mimetype": "text/x-python",
   "name": "python",
   "nbconvert_exporter": "python",
   "pygments_lexer": "ipython3",
   "version": "3.10.9"
  }
 },
 "nbformat": 4,
 "nbformat_minor": 5
}
